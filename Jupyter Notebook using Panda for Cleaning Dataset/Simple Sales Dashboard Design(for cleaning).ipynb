{
 "cells": [
  {
   "cell_type": "code",
   "execution_count": 2,
   "id": "459c1c2e-9d5a-4038-8e68-84af748b5623",
   "metadata": {},
   "outputs": [],
   "source": [
    "import pandas as pd"
   ]
  },
  {
   "cell_type": "code",
   "execution_count": 4,
   "id": "b317dbae-8e48-4045-8131-0e8c122cbc03",
   "metadata": {},
   "outputs": [],
   "source": [
    "# 1. Load the dataset\n",
    "df = pd.read_csv(\"A:\\ELEVATE GROUP\\Data Analyst Internship\\Day 8\\Dataset\\superstore_sales.csv\")"
   ]
  },
  {
   "cell_type": "code",
   "execution_count": 5,
   "id": "34542139-3503-4ca3-8b4b-807d7e84dfa6",
   "metadata": {},
   "outputs": [
    {
     "name": "stdout",
     "output_type": "stream",
     "text": [
      "          order_id  order_date   ship_date       ship_mode    customer_name  \\\n",
      "0     AG-2011-2040  01-01-2011  06-01-2011  Standard Class  Toby Braunhardt   \n",
      "1    IN-2011-47883  01-01-2011  08-01-2011  Standard Class      Joseph Holt   \n",
      "2     HU-2011-1220  01-01-2011  05-01-2011    Second Class    Annie Thurman   \n",
      "3  IT-2011-3647632  01-01-2011  05-01-2011    Second Class     Eugene Moren   \n",
      "4    IN-2011-47883  01-01-2011  08-01-2011  Standard Class      Joseph Holt   \n",
      "\n",
      "       segment            state    country  market   region  ...  \\\n",
      "0     Consumer      Constantine    Algeria  Africa   Africa  ...   \n",
      "1     Consumer  New South Wales  Australia    APAC  Oceania  ...   \n",
      "2     Consumer         Budapest    Hungary    EMEA     EMEA  ...   \n",
      "3  Home Office        Stockholm     Sweden      EU    North  ...   \n",
      "4     Consumer  New South Wales  Australia    APAC  Oceania  ...   \n",
      "\n",
      "          category sub_category                 product_name sales quantity  \\\n",
      "0  Office Supplies      Storage          Tenex Lockers, Blue   408        2   \n",
      "1  Office Supplies     Supplies     Acme Trimmer, High Speed   120        3   \n",
      "2  Office Supplies      Storage      Tenex Box, Single Width    66        4   \n",
      "3  Office Supplies        Paper  Enermax Note Cards, Premium    45        3   \n",
      "4        Furniture  Furnishings   Eldon Light Bulb, Duo Pack   114        5   \n",
      "\n",
      "   discount   profit  shipping_cost  order_priority  year  \n",
      "0       0.0  106.140          35.46          Medium  2011  \n",
      "1       0.1   36.036           9.72          Medium  2011  \n",
      "2       0.0   29.640           8.17            High  2011  \n",
      "3       0.5  -26.055           4.82            High  2011  \n",
      "4       0.1   37.770           4.70          Medium  2011  \n",
      "\n",
      "[5 rows x 21 columns]\n",
      "<class 'pandas.core.frame.DataFrame'>\n",
      "RangeIndex: 51290 entries, 0 to 51289\n",
      "Data columns (total 21 columns):\n",
      " #   Column          Non-Null Count  Dtype  \n",
      "---  ------          --------------  -----  \n",
      " 0   order_id        51290 non-null  object \n",
      " 1   order_date      51290 non-null  object \n",
      " 2   ship_date       51290 non-null  object \n",
      " 3   ship_mode       51290 non-null  object \n",
      " 4   customer_name   51290 non-null  object \n",
      " 5   segment         51290 non-null  object \n",
      " 6   state           51290 non-null  object \n",
      " 7   country         51290 non-null  object \n",
      " 8   market          51290 non-null  object \n",
      " 9   region          51290 non-null  object \n",
      " 10  product_id      51290 non-null  object \n",
      " 11  category        51290 non-null  object \n",
      " 12  sub_category    51290 non-null  object \n",
      " 13  product_name    51290 non-null  object \n",
      " 14  sales           51290 non-null  object \n",
      " 15  quantity        51290 non-null  int64  \n",
      " 16  discount        51290 non-null  float64\n",
      " 17  profit          51290 non-null  float64\n",
      " 18  shipping_cost   51290 non-null  float64\n",
      " 19  order_priority  51290 non-null  object \n",
      " 20  year            51290 non-null  int64  \n",
      "dtypes: float64(3), int64(2), object(16)\n",
      "memory usage: 8.2+ MB\n",
      "None\n",
      "           quantity      discount        profit  shipping_cost          year\n",
      "count  51290.000000  51290.000000  51290.000000   51290.000000  51290.000000\n",
      "mean       3.476545      0.142908     28.641740      26.375915   2012.777208\n",
      "std        2.278766      0.212280    174.424113      57.296804      1.098931\n",
      "min        1.000000      0.000000  -6599.978000       0.000000   2011.000000\n",
      "25%        2.000000      0.000000      0.000000       2.610000   2012.000000\n",
      "50%        3.000000      0.000000      9.240000       7.790000   2013.000000\n",
      "75%        5.000000      0.200000     36.810000      24.450000   2014.000000\n",
      "max       14.000000      0.850000   8399.976000     933.570000   2014.000000\n"
     ]
    }
   ],
   "source": [
    "# 2. Quick look at data\n",
    "print(df.head())\n",
    "print(df.info())\n",
    "print(df.describe())"
   ]
  },
  {
   "cell_type": "code",
   "execution_count": 6,
   "id": "17c30a68-2964-4b92-b52a-c92ccbbce558",
   "metadata": {},
   "outputs": [
    {
     "name": "stdout",
     "output_type": "stream",
     "text": [
      "order_id          0\n",
      "order_date        0\n",
      "ship_date         0\n",
      "ship_mode         0\n",
      "customer_name     0\n",
      "segment           0\n",
      "state             0\n",
      "country           0\n",
      "market            0\n",
      "region            0\n",
      "product_id        0\n",
      "category          0\n",
      "sub_category      0\n",
      "product_name      0\n",
      "sales             0\n",
      "quantity          0\n",
      "discount          0\n",
      "profit            0\n",
      "shipping_cost     0\n",
      "order_priority    0\n",
      "year              0\n",
      "dtype: int64\n"
     ]
    }
   ],
   "source": [
    "# 3. Handle missing values (if any)\n",
    "print(df.isnull().sum())\n",
    "df = df.dropna()   # or fill missing values depending on context"
   ]
  },
  {
   "cell_type": "code",
   "execution_count": 13,
   "id": "b5ffb9a1-8dc8-4eb4-a2cb-25dc0c226a10",
   "metadata": {},
   "outputs": [],
   "source": [
    "# 4. Convert date column to datetime (important for monthly analysis)\n",
    "df['order_date'] = pd.to_datetime(df['order_date'])"
   ]
  },
  {
   "cell_type": "code",
   "execution_count": 14,
   "id": "770e16b7-3b07-4575-9f26-a07c59246e2c",
   "metadata": {},
   "outputs": [],
   "source": [
    "# 5. Extract useful time features\n",
    "df['Year'] = df['order_date'].dt.year\n",
    "df['Month'] = df['order_date'].dt.month_name()"
   ]
  },
  {
   "cell_type": "code",
   "execution_count": 15,
   "id": "2a457a87-e255-4614-9635-5b3d6dc665ce",
   "metadata": {},
   "outputs": [
    {
     "name": "stdout",
     "output_type": "stream",
     "text": [
      "  order_id order_date   ship_date       ship_mode    customer_name  \\\n",
      "0      NaT 2011-01-01  06-01-2011  Standard Class  Toby Braunhardt   \n",
      "1      NaT 2011-01-01  08-01-2011  Standard Class      Joseph Holt   \n",
      "2      NaT 2011-01-01  05-01-2011    Second Class    Annie Thurman   \n",
      "3      NaT 2011-01-01  05-01-2011    Second Class     Eugene Moren   \n",
      "4      NaT 2011-01-01  08-01-2011  Standard Class      Joseph Holt   \n",
      "\n",
      "       segment            state    country  market   region  ...  \\\n",
      "0     Consumer      Constantine    Algeria  Africa   Africa  ...   \n",
      "1     Consumer  New South Wales  Australia    APAC  Oceania  ...   \n",
      "2     Consumer         Budapest    Hungary    EMEA     EMEA  ...   \n",
      "3  Home Office        Stockholm     Sweden      EU    North  ...   \n",
      "4     Consumer  New South Wales  Australia    APAC  Oceania  ...   \n",
      "\n",
      "                  product_name sales quantity discount   profit  \\\n",
      "0          Tenex Lockers, Blue   408        2      0.0  106.140   \n",
      "1     Acme Trimmer, High Speed   120        3      0.1   36.036   \n",
      "2      Tenex Box, Single Width    66        4      0.0   29.640   \n",
      "3  Enermax Note Cards, Premium    45        3      0.5  -26.055   \n",
      "4   Eldon Light Bulb, Duo Pack   114        5      0.1   37.770   \n",
      "\n",
      "   shipping_cost  order_priority  year    Year    Month  \n",
      "0          35.46          Medium  2011  2011.0  January  \n",
      "1           9.72          Medium  2011  2011.0  January  \n",
      "2           8.17            High  2011  2011.0  January  \n",
      "3           4.82            High  2011  2011.0  January  \n",
      "4           4.70          Medium  2011  2011.0  January  \n",
      "\n",
      "[5 rows x 23 columns]\n"
     ]
    }
   ],
   "source": [
    "# 6. Check cleaned data\n",
    "print(df.head())"
   ]
  },
  {
   "cell_type": "code",
   "execution_count": 17,
   "id": "1fac7d7c-dfbe-4a98-805a-1bd5ec47b7f1",
   "metadata": {},
   "outputs": [],
   "source": [
    "# 7. Save cleaned file\n",
    "df.to_csv(\"superstore_sales_clean.csv\", index=False)"
   ]
  },
  {
   "cell_type": "code",
   "execution_count": 18,
   "id": "8acb63ba-3959-49c1-bdf9-aa2eed2c880c",
   "metadata": {},
   "outputs": [],
   "source": [
    "# 7. Save cleaned file in the Directory from which it will be imported to PowerBI for further work\n",
    "df.to_csv(\"A:\\ELEVATE GROUP\\Data Analyst Internship\\Day 8\\Dataset\\superstore_sales_clean.csv\", index=False)"
   ]
  },
  {
   "cell_type": "code",
   "execution_count": null,
   "id": "a10634c4-f1be-4ead-a21e-35319c54cfe9",
   "metadata": {},
   "outputs": [],
   "source": []
  }
 ],
 "metadata": {
  "kernelspec": {
   "display_name": "Python [conda env:base] *",
   "language": "python",
   "name": "conda-base-py"
  },
  "language_info": {
   "codemirror_mode": {
    "name": "ipython",
    "version": 3
   },
   "file_extension": ".py",
   "mimetype": "text/x-python",
   "name": "python",
   "nbconvert_exporter": "python",
   "pygments_lexer": "ipython3",
   "version": "3.13.5"
  }
 },
 "nbformat": 4,
 "nbformat_minor": 5
}
